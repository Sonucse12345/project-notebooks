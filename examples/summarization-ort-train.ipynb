{
 "cells": [
  {
   "cell_type": "markdown",
   "id": "506b76f3-6de7-4972-9447-800d728b9b5f",
   "metadata": {},
   "source": [
    "# How to fine-tune a T5 model with ONNX Runtime\n",
    "\n",
    "[ONNX Runtime](https://microsoft.github.io/onnxruntime/) includes optimized kernels for GPU execution and efficient GPU memory management. With ONNX Runtime Training integrated, we expect a speedup on training(up to 37% increase in training throughput over PyTorch and up to 86% speedup when combined with DeepSpeed). Besides, ORT Training allows running 2X batch size compared with PyTorch.  \n",
    "\n",
    "[Optimum](https://github.com/huggingface/optimum) library, as an extention of [Transfermers](https://github.com/huggingface/transformers)🤗, offers an `ORTTrainer` API for users to easily leverage ONNX Runtime as backend for the accerleration on the training as well as inference of models.\n",
    "\n",
    "In this notebook, we will walk through the fine-tuning of [T5](https://huggingface.co/docs/transformers/model_doc/t5) model in the 🤗 Transformers for a summarization task. We will use the [XSum](https://arxiv.org/pdf/1808.08745.pdf) dataset (for extreme summarization) which contains BBC articles accompanied with single-sentence summaries, and the training as well as inference will be done by applying `ORTTrainer`! \n",
    "\n",
    "Let's speed everything up!"
   ]
  },
  {
   "cell_type": "markdown",
   "id": "992a2569-5a97-42b4-bfae-0eb36866c033",
   "metadata": {},
   "source": [
    "__Dependencies__\n",
    "\n",
    "If you're opening this Notebook on colab, you will probably need to install 🤗 Transformers, 🤗 Datasets and 🤗 Optimum. Uncomment the following cell and run it."
   ]
  },
  {
   "cell_type": "code",
   "execution_count": 1,
   "id": "4317fec7-6156-49f3-960a-40169eea60ff",
   "metadata": {},
   "outputs": [],
   "source": [
    "# !pip install datasets>=1.18.0 transformers==4.15.0 optimum[onnxruntime] rouge-score nltk tokenizers>=0.11.0\n",
    "# import nltk\n",
    "# nltk.download('punkt')"
   ]
  },
  {
   "cell_type": "markdown",
   "id": "325cce71-b7b2-469c-a5fd-991b7b529864",
   "metadata": {},
   "source": [
    "__[Optional]__ If you want to share your model with the community and generate an inference API, there are a few more steps to follow.\n",
    "\n",
    "First you have to store your authentication token from the Hugging Face website (sign up here if you haven't already!) then execute the following cell and input your username and password:"
   ]
  },
  {
   "cell_type": "code",
   "execution_count": 2,
   "id": "2bffacff-c201-4d79-bbdc-c470f76fb618",
   "metadata": {},
   "outputs": [],
   "source": [
    "# from huggingface_hub import notebook_login\n",
    "\n",
    "# notebook_login()"
   ]
  },
  {
   "cell_type": "markdown",
   "id": "8a15538e-d956-460c-851d-1a9ef4e1e8da",
   "metadata": {},
   "source": [
    "Then you need to install Git-LFS. Uncomment the following instructions:"
   ]
  },
  {
   "cell_type": "code",
   "execution_count": 24,
   "id": "25541b59-2824-4762-8fe1-a848d87ca96f",
   "metadata": {},
   "outputs": [],
   "source": [
    "# !apt install git-lfs"
   ]
  },
  {
   "cell_type": "markdown",
   "id": "d5af4aed-5277-4271-9663-4bd23a3c51de",
   "metadata": {},
   "source": [
    "Make sure your version of Transformers is at least 4.15.0:"
   ]
  },
  {
   "cell_type": "code",
   "execution_count": 2,
   "id": "1331aec7-c0de-46c8-9b14-e44c7417b188",
   "metadata": {},
   "outputs": [
    {
     "name": "stderr",
     "output_type": "stream",
     "text": [
      "/usr/local/lib/python3.6/dist-packages/tqdm/auto.py:22: TqdmWarning: IProgress not found. Please update jupyter and ipywidgets. See https://ipywidgets.readthedocs.io/en/stable/user_install.html\n",
      "  from .autonotebook import tqdm as notebook_tqdm\n"
     ]
    },
    {
     "name": "stdout",
     "output_type": "stream",
     "text": [
      "4.15.0\n"
     ]
    }
   ],
   "source": [
    "import transformers\n",
    "\n",
    "print(transformers.__version__)"
   ]
  },
  {
   "cell_type": "markdown",
   "id": "d7caff53-f8b7-4423-9daf-0a4cce76050e",
   "metadata": {},
   "source": [
    "__Setup__"
   ]
  },
  {
   "cell_type": "code",
   "execution_count": 3,
   "id": "88e4b671-3cad-4a4a-8cfe-0612e297d5b7",
   "metadata": {},
   "outputs": [],
   "source": [
    "model_checkpoint = \"t5-small\"\n",
    "task = \"xsum\"\n",
    "metric = \"rouge\"\n",
    "batch_size = 8\n",
    "learning_rate=2e-5\n",
    "weight_decay = 0.01\n",
    "num_train_epochs = 1"
   ]
  },
  {
   "cell_type": "markdown",
   "id": "ec6e4df1-2d90-478b-bdf2-1e6507851d4a",
   "metadata": {},
   "source": [
    "## Loading the dataset\n",
    "\n",
    "We will use the 🤗 [Datasets](https://github.com/huggingface/datasets) library to download the data and get the metric we need to use for evaluation (to compare our quantized model to the baseline). This can be easily done with the functions `load_dataset` and `load_metric`."
   ]
  },
  {
   "cell_type": "code",
   "execution_count": 5,
   "id": "0cd399ad-2ef2-4d6e-9fc5-daaabef52b14",
   "metadata": {},
   "outputs": [],
   "source": [
    "from datasets import load_dataset, load_metric\n",
    "\n",
    "raw_datasets = load_dataset(task)\n",
    "metric = load_metric(metric)"
   ]
  },
  {
   "cell_type": "markdown",
   "id": "e904992d-16c8-44c0-8998-2828661eb90e",
   "metadata": {},
   "source": [
    "__[Optional]__ To get a sense of what the data looks like, the following function will show some examples picked randomly in the dataset."
   ]
  },
  {
   "cell_type": "code",
   "execution_count": 6,
   "id": "6b98148c-8da3-4535-81d0-a532bef04a58",
   "metadata": {},
   "outputs": [],
   "source": [
    "import datasets\n",
    "import random\n",
    "import pandas as pd\n",
    "from IPython.display import display, HTML\n",
    "\n",
    "def show_random_elements(dataset, num_examples=1):\n",
    "    assert num_examples <= len(dataset), \"Can't pick more elements than there are in the dataset.\"\n",
    "    picks = []\n",
    "    for _ in range(num_examples):\n",
    "        pick = random.randint(0, len(dataset)-1)\n",
    "        while pick in picks:\n",
    "            pick = random.randint(0, len(dataset)-1)\n",
    "        picks.append(pick)\n",
    "    \n",
    "    df = pd.DataFrame(dataset[picks])\n",
    "    for column, typ in dataset.features.items():\n",
    "        if isinstance(typ, datasets.ClassLabel):\n",
    "            df[column] = df[column].transform(lambda i: typ.names[i])\n",
    "    display(HTML(df.to_html()))"
   ]
  },
  {
   "cell_type": "code",
   "execution_count": 7,
   "id": "02392d62-56b7-4704-bc17-e28904739664",
   "metadata": {},
   "outputs": [
    {
     "data": {
      "text/html": [
       "<table border=\"1\" class=\"dataframe\">\n",
       "  <thead>\n",
       "    <tr style=\"text-align: right;\">\n",
       "      <th></th>\n",
       "      <th>document</th>\n",
       "      <th>summary</th>\n",
       "      <th>id</th>\n",
       "    </tr>\n",
       "  </thead>\n",
       "  <tbody>\n",
       "    <tr>\n",
       "      <th>0</th>\n",
       "      <td>The units in North Tyneside and Northumberland will be shut between midnight and 08:00 from 1 December.\\nOvernight emergencies will be diverted to the recently-opened Northumbria Hospital in Cramlington, until March.\\nHealth bosses say the move - at North Tyneside, Hexham and Wansbeck hospitals - is needed to cope with an expected rise in 999 admissions over the winter.\\nThe Northumbria Healthcare NHS Foundation Trust said the impact on patients would be minimal as the units are currently underused at night.\\nStaff from the units are being moved to the Northumbria Specialist Emergency Care Hospital, in Cramlington, which opened last year, to deal with predicted peak day-time admissions, the trust said.\\nA spokesman said: \"This essential temporary measure is being taken as part of winter resilience planning and means that highly-skilled nursing staff can be deployed where there is most demand on services from patients.\\n\"Since opening the Northumbria hospital in June 2015, activity overnight at the urgent care centres has been minimal with, on average, less than 10 overnight attendances a day across all three centres.\\n\"The trust is keen to emphasise that this is a temporary measure only.\\n\"All three urgent care centres will continue to be open from 8am until midnight seven days a week, with a medical presence also on site from 9am to 10pm seven days a week.\"</td>\n",
       "      <td>Three emergency care units are closing their doors to overnight patients in an effort to focus care over the winter.</td>\n",
       "      <td>38054742</td>\n",
       "    </tr>\n",
       "  </tbody>\n",
       "</table>"
      ],
      "text/plain": [
       "<IPython.core.display.HTML object>"
      ]
     },
     "metadata": {},
     "output_type": "display_data"
    }
   ],
   "source": [
    "show_random_elements(raw_datasets[\"train\"])"
   ]
  },
  {
   "cell_type": "markdown",
   "id": "21195faa-5d1a-4f85-a334-1be61819be0d",
   "metadata": {},
   "source": [
    "__[Optional]__ The metric is an instance of datasets.Metric. You can call its compute method with your predictions and labels, which need to be list of decoded strings:"
   ]
  },
  {
   "cell_type": "code",
   "execution_count": 8,
   "id": "e39e3b3b-b8b0-46f1-a4e9-22162d585324",
   "metadata": {},
   "outputs": [
    {
     "data": {
      "text/plain": [
       "Metric(name: \"rouge\", features: {'predictions': Value(dtype='string', id='sequence'), 'references': Value(dtype='string', id='sequence')}, usage: \"\"\"\n",
       "Calculates average rouge scores for a list of hypotheses and references\n",
       "Args:\n",
       "    predictions: list of predictions to score. Each predictions\n",
       "        should be a string with tokens separated by spaces.\n",
       "    references: list of reference for each prediction. Each\n",
       "        reference should be a string with tokens separated by spaces.\n",
       "    rouge_types: A list of rouge types to calculate.\n",
       "        Valid names:\n",
       "        `\"rouge{n}\"` (e.g. `\"rouge1\"`, `\"rouge2\"`) where: {n} is the n-gram based scoring,\n",
       "        `\"rougeL\"`: Longest common subsequence based scoring.\n",
       "        `\"rougeLSum\"`: rougeLsum splits text using `\"\n",
       "\"`.\n",
       "        See details in https://github.com/huggingface/datasets/issues/617\n",
       "    use_stemmer: Bool indicating whether Porter stemmer should be used to strip word suffixes.\n",
       "    use_agregator: Return aggregates if this is set to True\n",
       "Returns:\n",
       "    rouge1: rouge_1 (precision, recall, f1),\n",
       "    rouge2: rouge_2 (precision, recall, f1),\n",
       "    rougeL: rouge_l (precision, recall, f1),\n",
       "    rougeLsum: rouge_lsum (precision, recall, f1)\n",
       "Examples:\n",
       "\n",
       "    >>> rouge = datasets.load_metric('rouge')\n",
       "    >>> predictions = [\"hello there\", \"general kenobi\"]\n",
       "    >>> references = [\"hello there\", \"general kenobi\"]\n",
       "    >>> results = rouge.compute(predictions=predictions, references=references)\n",
       "    >>> print(list(results.keys()))\n",
       "    ['rouge1', 'rouge2', 'rougeL', 'rougeLsum']\n",
       "    >>> print(results[\"rouge1\"])\n",
       "    AggregateScore(low=Score(precision=1.0, recall=1.0, fmeasure=1.0), mid=Score(precision=1.0, recall=1.0, fmeasure=1.0), high=Score(precision=1.0, recall=1.0, fmeasure=1.0))\n",
       "    >>> print(results[\"rouge1\"].mid.fmeasure)\n",
       "    1.0\n",
       "\"\"\", stored examples: 0)"
      ]
     },
     "execution_count": 8,
     "metadata": {},
     "output_type": "execute_result"
    }
   ],
   "source": [
    "metric"
   ]
  },
  {
   "cell_type": "code",
   "execution_count": 9,
   "id": "356db537-7aca-4007-8abc-93d1d1e66023",
   "metadata": {},
   "outputs": [
    {
     "data": {
      "text/plain": [
       "{'rouge1': AggregateScore(low=Score(precision=1.0, recall=1.0, fmeasure=1.0), mid=Score(precision=1.0, recall=1.0, fmeasure=1.0), high=Score(precision=1.0, recall=1.0, fmeasure=1.0)),\n",
       " 'rouge2': AggregateScore(low=Score(precision=1.0, recall=1.0, fmeasure=1.0), mid=Score(precision=1.0, recall=1.0, fmeasure=1.0), high=Score(precision=1.0, recall=1.0, fmeasure=1.0)),\n",
       " 'rougeL': AggregateScore(low=Score(precision=1.0, recall=1.0, fmeasure=1.0), mid=Score(precision=1.0, recall=1.0, fmeasure=1.0), high=Score(precision=1.0, recall=1.0, fmeasure=1.0)),\n",
       " 'rougeLsum': AggregateScore(low=Score(precision=1.0, recall=1.0, fmeasure=1.0), mid=Score(precision=1.0, recall=1.0, fmeasure=1.0), high=Score(precision=1.0, recall=1.0, fmeasure=1.0))}"
      ]
     },
     "execution_count": 9,
     "metadata": {},
     "output_type": "execute_result"
    }
   ],
   "source": [
    "fake_preds = [\"hello there\", \"general kenobi\"]\n",
    "fake_labels = [\"hello there\", \"general kenobi\"]\n",
    "metric.compute(predictions=fake_preds, references=fake_labels)"
   ]
  },
  {
   "cell_type": "markdown",
   "id": "cce8654e-7b89-4939-9492-0dc41748a8d5",
   "metadata": {},
   "source": [
    "## Preprocessing the data\n",
    "\n",
    "Before we can feed those texts to our model, we need to preprocess them. This is done by a 🤗 Transformers `Tokenizer` which will (as the name indicates) tokenize the inputs (including converting the tokens to their corresponding IDs in the pretrained vocabulary) and put it in a format the model expects, as well as generate the other inputs that the model requires.\n",
    "\n",
    "To do all of this, we instantiate our tokenizer with the `AutoTokenizer.from_pretrained` method, which will ensure:\n",
    "\n",
    "* we get a tokenizer that corresponds to the model architecture we want to use,\n",
    "* we download the vocabulary used when pretraining this specific checkpoint.\n",
    "\n",
    "That vocabulary will be cached, so it's not downloaded again the next time we run the cell."
   ]
  },
  {
   "cell_type": "code",
   "execution_count": 10,
   "id": "ed0dd242-168d-4a23-9c31-9a771447b0d3",
   "metadata": {},
   "outputs": [
    {
     "name": "stderr",
     "output_type": "stream",
     "text": [
      "Downloading: 100%|██████████| 1.17k/1.17k [00:00<00:00, 2.37MB/s]\n",
      "Downloading: 100%|██████████| 773k/773k [00:00<00:00, 2.21MB/s]\n",
      "Downloading: 100%|██████████| 1.32M/1.32M [00:01<00:00, 888kB/s] \n"
     ]
    }
   ],
   "source": [
    "from transformers import AutoTokenizer\n",
    "    \n",
    "tokenizer = AutoTokenizer.from_pretrained(model_checkpoint)"
   ]
  },
  {
   "cell_type": "markdown",
   "id": "dcfff705-6898-4416-a70d-ab38574e4ae4",
   "metadata": {},
   "source": [
    "To prepare the targets for our model, we need to tokenize them inside the as_target_tokenizer context manager. This will make sure the tokenizer uses the special tokens corresponding to the targets:"
   ]
  },
  {
   "cell_type": "code",
   "execution_count": 11,
   "id": "ab1dcab0-2058-4941-8e00-6632246fabb6",
   "metadata": {},
   "outputs": [
    {
     "name": "stdout",
     "output_type": "stream",
     "text": [
      "{'input_ids': [[8774, 6, 48, 80, 7142, 55, 1], [100, 19, 430, 7142, 5, 1]], 'attention_mask': [[1, 1, 1, 1, 1, 1, 1], [1, 1, 1, 1, 1, 1]]}\n"
     ]
    }
   ],
   "source": [
    "with tokenizer.as_target_tokenizer():\n",
    "    print(tokenizer([\"Hello, this one sentence!\", \"This is another sentence.\"]))"
   ]
  },
  {
   "cell_type": "markdown",
   "id": "7bec3614-7d7e-4032-b5da-16cb729afb38",
   "metadata": {},
   "source": [
    "If you are using one of the five T5 checkpoints we have to prefix the inputs with \"summarize:\" (the model can also translate and it needs the prefix to know which task it has to perform)."
   ]
  },
  {
   "cell_type": "code",
   "execution_count": 12,
   "id": "206bf42d-bbe8-4522-993b-172a384ac77e",
   "metadata": {},
   "outputs": [],
   "source": [
    "if model_checkpoint in [\"t5-small\", \"t5-base\", \"t5-large\", \"t5-3b\", \"t5-11b\"]:\n",
    "    prefix = \"summarize: \"\n",
    "else:\n",
    "    prefix = \"\""
   ]
  },
  {
   "cell_type": "markdown",
   "id": "772992e6-3b36-4a22-8176-6d55c02805d0",
   "metadata": {},
   "source": [
    "We can then write the function that will preprocess our samples. We just feed them to the `tokenizer` with the argument `truncation=True`. This will ensure that an input longer that what the model selected can handle will be truncated to the maximum length accepted by the model. The padding will be dealt with later on (in a data collator) so we pad examples to the longest length in the batch and not the whole dataset."
   ]
  },
  {
   "cell_type": "code",
   "execution_count": 13,
   "id": "bb805008-5448-4b3a-b5dd-af158267290b",
   "metadata": {},
   "outputs": [],
   "source": [
    "max_input_length = 1024\n",
    "max_target_length = 128\n",
    "\n",
    "def preprocess_function(examples):\n",
    "    inputs = [prefix + doc for doc in examples[\"document\"]]\n",
    "    model_inputs = tokenizer(inputs, max_length=max_input_length, truncation=True)\n",
    "\n",
    "    # Setup the tokenizer for targets\n",
    "    with tokenizer.as_target_tokenizer():\n",
    "        labels = tokenizer(examples[\"summary\"], max_length=max_target_length, truncation=True)\n",
    "\n",
    "    model_inputs[\"labels\"] = labels[\"input_ids\"]\n",
    "    return model_inputs"
   ]
  },
  {
   "cell_type": "markdown",
   "id": "a7fab1f9-3770-4c8b-9464-ba6142da6895",
   "metadata": {},
   "source": [
    "To apply this function on all the pairs of sentences in our dataset, we just use the `map` method of our `dataset` object we created earlier. This will apply the function on all the elements of all the splits in `dataset`, so our training, validation and testing data will be preprocessed in one single command."
   ]
  },
  {
   "cell_type": "code",
   "execution_count": 14,
   "id": "51a27c6a-7fc8-429c-9220-64052fd0dd98",
   "metadata": {},
   "outputs": [
    {
     "name": "stderr",
     "output_type": "stream",
     "text": [
      "100%|██████████| 205/205 [00:54<00:00,  3.75ba/s]\n",
      "100%|██████████| 12/12 [00:02<00:00,  4.09ba/s]\n",
      "100%|██████████| 12/12 [00:03<00:00,  3.87ba/s]\n"
     ]
    }
   ],
   "source": [
    "tokenized_datasets = raw_datasets.map(preprocess_function, batched=True)"
   ]
  },
  {
   "cell_type": "markdown",
   "id": "6ab34167-4ce6-4aea-aa17-65d74dabcb5d",
   "metadata": {},
   "source": [
    "Even better, the results are automatically cached by the 🤗 Datasets library to avoid spending time on this step the next time you run your notebook. The 🤗 Datasets library is normally smart enough to detect when the function you pass to map has changed (and thus requires to not use the cache data). For instance, it will properly detect if you change the task in the first cell and rerun the notebook. 🤗 Datasets warns you when it uses cached files, you can pass `load_from_cache_file=False` in the call to `map` to not use the cached files and force the preprocessing to be applied again.\n",
    "\n",
    "Note that we passed `batched=True` to encode the texts by batches together. This is to leverage the full benefit of the fast tokenizer we loaded earlier, which will use multi-threading to treat the texts in a batch concurrently."
   ]
  },
  {
   "cell_type": "markdown",
   "id": "47c1e75c-4247-4f58-bd1d-cb70f5629172",
   "metadata": {},
   "source": [
    "## Fine-tuning the model\n",
    "\n",
    "Now that our data is ready, we can download the pretrained model and fine-tune it. Since our task is of the sequence-to-sequence kind, we use the `AutoModelForSeq2SeqLM` class. Like with the tokenizer, the `from_pretrained` method will download and cache the model for us."
   ]
  },
  {
   "cell_type": "code",
   "execution_count": 15,
   "id": "b0331d86-4daa-4b9f-85f8-fafdab53f457",
   "metadata": {},
   "outputs": [
    {
     "name": "stderr",
     "output_type": "stream",
     "text": [
      "Downloading: 100%|██████████| 231M/231M [00:03<00:00, 75.5MB/s] \n"
     ]
    }
   ],
   "source": [
    "from transformers import AutoModelForSeq2SeqLM, DataCollatorForSeq2Seq, Seq2SeqTrainingArguments\n",
    "from optimum.onnxruntime import Seq2SeqORTTrainer\n",
    "\n",
    "model = AutoModelForSeq2SeqLM.from_pretrained(model_checkpoint)"
   ]
  },
  {
   "cell_type": "markdown",
   "id": "ea682a86-6c45-458f-852c-492b653352ec",
   "metadata": {},
   "source": [
    "Note that we don't get a warning like in our classification example. This means we used all the weights of the pretrained model and there is no randomly initialized head in this case.\n",
    "\n",
    "To instantiate a `Seq2SeqORTTrainer`, we will need to define three more things. The most important is the `Seq2SeqTrainingArguments`, which is a class that contains all the attributes to customize the training. It requires one folder name, which will be used to save the checkpoints of the model, and all other arguments are optional:"
   ]
  },
  {
   "cell_type": "code",
   "execution_count": 16,
   "id": "74fc3b58-db3b-4e03-9b26-6b9dcfb46d89",
   "metadata": {},
   "outputs": [],
   "source": [
    "model_name = model_checkpoint.split(\"/\")[-1]\n",
    "args = Seq2SeqTrainingArguments(\n",
    "    f\"{model_name}-finetuned-xsum\",\n",
    "    evaluation_strategy = \"epoch\",\n",
    "    learning_rate=learning_rate,\n",
    "    per_device_train_batch_size=batch_size,\n",
    "    per_device_eval_batch_size=batch_size,\n",
    "    weight_decay=weight_decay,\n",
    "    save_total_limit=3,\n",
    "    num_train_epochs=num_train_epochs,\n",
    "    predict_with_generate=True,\n",
    "    fp16=True,\n",
    "    # push_to_hub=True,  # Uncomment this if you want to push to hub\n",
    ")"
   ]
  },
  {
   "cell_type": "markdown",
   "id": "d3d56ba1-1399-4b00-a175-a1c3a6ff8feb",
   "metadata": {},
   "source": [
    "Here we set the evaluation to be done at the end of each epoch, tweak the learning rate, use the `batch_size` defined at the top of the cell and customize the weight decay. Since the `Seq2SeqORTTrainer` will save the model regularly and our dataset is quite large, we tell it to make three saves maximum. Lastly, we use the `predict_with_generate` option (to properly generate summaries) and activate mixed precision training (to go a bit faster).\n",
    "\n",
    "\n",
    "The last argument to setup everything so we can push the model to the [Hub](https://huggingface.co/models) regularly during training. Remove it if you didn't follow the installation steps at the top of the notebook. If you want to save your model locally in a name that is different than the name of the repository it will be pushed, or if you want to push your model under an organization and not your name space, use the hub_model_id argument to set the repo name (it needs to be the full name, including your namespace: for instance \"optimum/t5-large-finetuned-xsum\").\n",
    "\n",
    "Then, we need a special kind of data collator, which will not only pad the inputs to the maximum length in the batch, but also the labels:"
   ]
  },
  {
   "cell_type": "code",
   "execution_count": 17,
   "id": "fb644a2f-0f18-4646-916d-b4c6b5c4ccf7",
   "metadata": {},
   "outputs": [],
   "source": [
    "data_collator = DataCollatorForSeq2Seq(tokenizer, model=model)"
   ]
  },
  {
   "cell_type": "markdown",
   "id": "15b73b4b-3816-4bba-a325-f75e3ec29154",
   "metadata": {},
   "source": [
    "The last thing to define for our `Seq2SeqORTTrainer` is how to compute the metrics from the predictions. We need to define a function for this, which will just use the `metric` we loaded earlier, and we have to do a bit of pre-processing to decode the predictions into texts:"
   ]
  },
  {
   "cell_type": "code",
   "execution_count": 18,
   "id": "0266a795-ddf8-46e0-8d37-be8863cb62cc",
   "metadata": {},
   "outputs": [],
   "source": [
    "import nltk\n",
    "import numpy as np\n",
    "\n",
    "def compute_metrics(eval_pred):\n",
    "    predictions, labels = eval_pred\n",
    "    decoded_preds = tokenizer.batch_decode(predictions, skip_special_tokens=True)\n",
    "    # Replace -100 in the labels as we can't decode them.\n",
    "    labels = np.where(labels != -100, labels, tokenizer.pad_token_id)\n",
    "    decoded_labels = tokenizer.batch_decode(labels, skip_special_tokens=True)\n",
    "    \n",
    "    # Rouge expects a newline after each sentence\n",
    "    decoded_preds = [\"\\n\".join(nltk.sent_tokenize(pred.strip())) for pred in decoded_preds]\n",
    "    decoded_labels = [\"\\n\".join(nltk.sent_tokenize(label.strip())) for label in decoded_labels]\n",
    "    \n",
    "    result = metric.compute(predictions=decoded_preds, references=decoded_labels, use_stemmer=True)\n",
    "    # Extract a few results\n",
    "    result = {key: value.mid.fmeasure * 100 for key, value in result.items()}\n",
    "    \n",
    "    # Add mean generated length\n",
    "    prediction_lens = [np.count_nonzero(pred != tokenizer.pad_token_id) for pred in predictions]\n",
    "    result[\"gen_len\"] = np.mean(prediction_lens)\n",
    "    \n",
    "    return {k: round(v, 4) for k, v in result.items()}"
   ]
  },
  {
   "cell_type": "markdown",
   "id": "cc60c851-adaf-43bc-8e0e-ce6fbbdd1e9f",
   "metadata": {},
   "source": [
    "Then we just need to pass all of this along with our datasets to the `Seq2SeqORTTrainer`:"
   ]
  },
  {
   "cell_type": "code",
   "execution_count": 19,
   "id": "ba3192aa-5703-467b-b168-054407c80d4f",
   "metadata": {},
   "outputs": [
    {
     "name": "stderr",
     "output_type": "stream",
     "text": [
      "Using amp half precision backend\n"
     ]
    }
   ],
   "source": [
    "trainer = Seq2SeqORTTrainer(\n",
    "    model=model,\n",
    "    args=args,\n",
    "    train_dataset=tokenized_datasets[\"train\"],\n",
    "    eval_dataset=tokenized_datasets[\"validation\"],\n",
    "    tokenizer=tokenizer,\n",
    "    data_collator=data_collator,\n",
    "    compute_metrics=compute_metrics if args.predict_with_generate else None,\n",
    "    feature=\"seq2seq-lm\",\n",
    ")"
   ]
  },
  {
   "cell_type": "markdown",
   "id": "8281d5c7-0a9e-4df0-bd99-80a1ccbf809d",
   "metadata": {},
   "source": [
    "We can now finetune our model by just calling the `train` method:"
   ]
  },
  {
   "cell_type": "code",
   "execution_count": 23,
   "id": "8c9f8bfb-1a47-4b33-a632-50170f3817d6",
   "metadata": {},
   "outputs": [
    {
     "name": "stderr",
     "output_type": "stream",
     "text": [
      "The following columns in the training set  don't have a corresponding argument in `T5ForConditionalGeneration.forward` and have been ignored: summary, id, document.\n",
      "Skipping the first batches: 100%|██████████| 25500/25500 [01:43<00:00, 246.67it/s]\n",
      "/usr/local/lib/python3.6/dist-packages/onnxruntime/training/ortmodule/_logger.py:53: UserWarning: There were one or more warnings or errors raised while exporting the PyTorch model. Please enable INFO level logging to view all warnings and errors.\n",
      "  \"model. Please enable INFO level logging to view all warnings and errors.\", UserWarning)\n"
     ]
    },
    {
     "data": {
      "text/html": [
       "\n",
       "    <div>\n",
       "      \n",
       "      <progress value='25506' max='25506' style='width:300px; height:20px; vertical-align: middle;'></progress>\n",
       "      [25506/25506 04:48, Epoch 1/1]\n",
       "    </div>\n",
       "    <table border=\"1\" class=\"dataframe\">\n",
       "  <thead>\n",
       "    <tr style=\"text-align: left;\">\n",
       "      <th>Epoch</th>\n",
       "      <th>Training Loss</th>\n",
       "      <th>Validation Loss</th>\n",
       "      <th>Rouge1</th>\n",
       "      <th>Rouge2</th>\n",
       "      <th>Rougel</th>\n",
       "      <th>Rougelsum</th>\n",
       "      <th>Gen Len</th>\n",
       "    </tr>\n",
       "  </thead>\n",
       "  <tbody>\n",
       "    <tr>\n",
       "      <td>1</td>\n",
       "      <td>2.681500</td>\n",
       "      <td>2.450115</td>\n",
       "      <td>28.653400</td>\n",
       "      <td>7.962000</td>\n",
       "      <td>22.578300</td>\n",
       "      <td>22.574900</td>\n",
       "      <td>18.815800</td>\n",
       "    </tr>\n",
       "  </tbody>\n",
       "</table><p>"
      ],
      "text/plain": [
       "<IPython.core.display.HTML object>"
      ]
     },
     "metadata": {},
     "output_type": "display_data"
    },
    {
     "name": "stderr",
     "output_type": "stream",
     "text": [
      "The following columns in the evaluation set  don't have a corresponding argument in `T5ForConditionalGeneration.forward` and have been ignored: summary, id, document.\n"
     ]
    },
    {
     "data": {
      "text/plain": [
       "TrainOutput(global_step=25506, training_loss=0.0006002723623853211, metrics={'train_runtime': 401.6211, 'train_samples_per_second': 508.054, 'train_steps_per_second': 63.508, 'total_flos': 5.075834893949338e+16, 'train_loss': 0.0006002723623853211, 'epoch': 1.0})"
      ]
     },
     "execution_count": 23,
     "metadata": {},
     "output_type": "execute_result"
    }
   ],
   "source": [
    "trainer.train()"
   ]
  },
  {
   "cell_type": "markdown",
   "id": "00196cb8-084f-491b-b474-5773014e4f10",
   "metadata": {},
   "source": [
    "__[Optional]__ You can now upload the result of the training to the Hub, just execute this instruction:"
   ]
  },
  {
   "cell_type": "code",
   "execution_count": null,
   "id": "10f5e7fc-2dbd-40e5-978e-f28b527ecc9d",
   "metadata": {},
   "outputs": [],
   "source": [
    "# trainer.push_to_hub()"
   ]
  },
  {
   "cell_type": "markdown",
   "id": "10cf3235-73c3-4800-8762-76a9e87095c1",
   "metadata": {},
   "source": [
    "You can now share this model with all your friends, family, favorite pets: they can all load it with the identifier \"your-username/the-name-you-picked\" so for instance:\n",
    "```python\n",
    "\n",
    "from transformers import AutoModelForSeq2SeqLM\n",
    "\n",
    "model = AutoModelForSeq2SeqLM.from_pretrained(\\\"optimum/t5-small-finetuned-xsum\")\n",
    "```\n",
    "\n",
    "__[Optional]__ Otherwise, you will also be able to save your fine-tuned model as PyTorch model in the `output_dir` that you set in `Seq2SeqORTTrainer`:"
   ]
  },
  {
   "cell_type": "code",
   "execution_count": null,
   "id": "949a4ead-07be-4300-912c-2134645817dd",
   "metadata": {},
   "outputs": [],
   "source": [
    "# trainer.save_model()"
   ]
  },
  {
   "cell_type": "markdown",
   "id": "bf3b1058-d902-4a78-b96a-5de2f7a0977c",
   "metadata": {},
   "source": [
    "## Summarize your "
   ]
  },
  {
   "cell_type": "markdown",
   "id": "6f5e9a38-156d-45ce-8ddc-c06c76bef057",
   "metadata": {},
   "source": [
    "## __Optional__\n",
    "\n",
    "Now check your trained ONNX IR(intermediate representation) with Netron, and you might notice that the IR is under optimizatiom. Want to accelerate even more? \n",
    "\n",
    "Check the graph optimizer and quantizer notebooks of [Optimum](https://github.com/huggingface/optimum)🤗 ! \n",
    "\n",
    "* Optimization\n",
    "* Quantization: [Quantizing a model with ONNX Runtime for text classification tasks](https://colab.research.google.com/github/huggingface/notebooks/blob/master/examples/text_classification_quantization_ort.ipynb#scrollTo=X4cRE8IbIrIV)"
   ]
  },
  {
   "cell_type": "markdown",
   "id": "608e6e43-6d2b-4491-9f34-6449aeff15bf",
   "metadata": {},
   "source": []
  }
 ],
 "metadata": {
  "kernelspec": {
   "display_name": "Python 3",
   "language": "python",
   "name": "python3"
  },
  "language_info": {
   "codemirror_mode": {
    "name": "ipython",
    "version": 3
   },
   "file_extension": ".py",
   "mimetype": "text/x-python",
   "name": "python",
   "nbconvert_exporter": "python",
   "pygments_lexer": "ipython3",
   "version": "3.6.9"
  }
 },
 "nbformat": 4,
 "nbformat_minor": 5
}
